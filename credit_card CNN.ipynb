{
  "nbformat": 4,
  "nbformat_minor": 0,
  "metadata": {
    "colab": {
      "name": "credit card",
      "provenance": [],
      "collapsed_sections": []
    },
    "kernelspec": {
      "name": "python3",
      "display_name": "Python 3"
    },
    "accelerator": "TPU"
  },
  "cells": [
    {
      "cell_type": "code",
      "metadata": {
        "id": "RgyoBn0vSH83",
        "colab_type": "code",
        "colab": {
          "base_uri": "https://localhost:8080/",
          "height": 86
        },
        "outputId": "afb0f619-fedd-4f05-df70-d6f0b9748720"
      },
      "source": [
        
      ],
      "execution_count": 1,
      "outputs": [
        {
          "output_type": "stream",
          "text": [
            
          ],
          "name": "stdout"
        }
      ]
    },
    {
      "cell_type": "code",
      "metadata": {
        "id": "R0Rq5jR4Su4f",
        "colab_type": "code",
        "colab": {}
      },
      "source": [
        "import numpy as np\n",
        "import pandas as pd\n",
        "import matplotlib.pyplot as plt\n",
        "import seaborn as sns\n",
        "%matplotlib inline"
      ],
      "execution_count": 0,
      "outputs": []
    },
    {
      "cell_type": "code",
      "metadata": {
        "id": "P_u3aJIZS9FI",
        "colab_type": "code",
        "colab": {}
      },
      "source": [
        "from keras.models import Sequential\n",
        "from keras.layers import Dense,Dropout,BatchNormalization,MaxPool1D,Conv1D,Flatten\n",
        "from sklearn.preprocessing import StandardScaler\n",
        "from sklearn.model_selection import train_test_split"
      ],
      "execution_count": 0,
      "outputs": []
    },
    {
      "cell_type": "code",
      "metadata": {
        "id": "cFrt8-JuTfyy",
        "colab_type": "code",
        "colab": {}
      },
      "source": [
        "data=pd.read_csv('/content/Kaggle-Data-Credit-Card-Fraud-Detection/creditcard.csv')"
      ],
      "execution_count": 0,
      "outputs": []
    },
    {
      "cell_type": "code",
      "metadata": {
        "id": "8sAaE88QTkeI",
        "colab_type": "code",
        "colab": {
          "base_uri": "https://localhost:8080/",
          "height": 226
        },
        "outputId": "5c9171f9-3070-436f-9571-67040a20096e"
      },
      "source": [
        "data.head()"
      ],
      "execution_count": 7,
      "outputs": [
        {
          "output_type": "execute_result",
          "data": {
            "text/html": [
              "<div>\n",
              "<style scoped>\n",
              "    .dataframe tbody tr th:only-of-type {\n",
              "        vertical-align: middle;\n",
              "    }\n",
              "\n",
              "    .dataframe tbody tr th {\n",
              "        vertical-align: top;\n",
              "    }\n",
              "\n",
              "    .dataframe thead th {\n",
              "        text-align: right;\n",
              "    }\n",
              "</style>\n",
              "<table border=\"1\" class=\"dataframe\">\n",
              "  <thead>\n",
              "    <tr style=\"text-align: right;\">\n",
              "      <th></th>\n",
              "      <th>Time</th>\n",
              "      <th>V1</th>\n",
              "      <th>V2</th>\n",
              "      <th>V3</th>\n",
              "      <th>V4</th>\n",
              "      <th>V5</th>\n",
              "      <th>V6</th>\n",
              "      <th>V7</th>\n",
              "      <th>V8</th>\n",
              "      <th>V9</th>\n",
              "      <th>V10</th>\n",
              "      <th>V11</th>\n",
              "      <th>V12</th>\n",
              "      <th>V13</th>\n",
              "      <th>V14</th>\n",
              "      <th>V15</th>\n",
              "      <th>V16</th>\n",
              "      <th>V17</th>\n",
              "      <th>V18</th>\n",
              "      <th>V19</th>\n",
              "      <th>V20</th>\n",
              "      <th>V21</th>\n",
              "      <th>V22</th>\n",
              "      <th>V23</th>\n",
              "      <th>V24</th>\n",
              "      <th>V25</th>\n",
              "      <th>V26</th>\n",
              "      <th>V27</th>\n",
              "      <th>V28</th>\n",
              "      <th>Amount</th>\n",
              "      <th>Class</th>\n",
              "    </tr>\n",
              "  </thead>\n",
              "  <tbody>\n",
              "    <tr>\n",
              "      <th>0</th>\n",
              "      <td>0.0</td>\n",
              "      <td>-1.359807</td>\n",
              "      <td>-0.072781</td>\n",
              "      <td>2.536347</td>\n",
              "      <td>1.378155</td>\n",
              "      <td>-0.338321</td>\n",
              "      <td>0.462388</td>\n",
              "      <td>0.239599</td>\n",
              "      <td>0.098698</td>\n",
              "      <td>0.363787</td>\n",
              "      <td>0.090794</td>\n",
              "      <td>-0.551600</td>\n",
              "      <td>-0.617801</td>\n",
              "      <td>-0.991390</td>\n",
              "      <td>-0.311169</td>\n",
              "      <td>1.468177</td>\n",
              "      <td>-0.470401</td>\n",
              "      <td>0.207971</td>\n",
              "      <td>0.025791</td>\n",
              "      <td>0.403993</td>\n",
              "      <td>0.251412</td>\n",
              "      <td>-0.018307</td>\n",
              "      <td>0.277838</td>\n",
              "      <td>-0.110474</td>\n",
              "      <td>0.066928</td>\n",
              "      <td>0.128539</td>\n",
              "      <td>-0.189115</td>\n",
              "      <td>0.133558</td>\n",
              "      <td>-0.021053</td>\n",
              "      <td>149.62</td>\n",
              "      <td>0</td>\n",
              "    </tr>\n",
              "    <tr>\n",
              "      <th>1</th>\n",
              "      <td>0.0</td>\n",
              "      <td>1.191857</td>\n",
              "      <td>0.266151</td>\n",
              "      <td>0.166480</td>\n",
              "      <td>0.448154</td>\n",
              "      <td>0.060018</td>\n",
              "      <td>-0.082361</td>\n",
              "      <td>-0.078803</td>\n",
              "      <td>0.085102</td>\n",
              "      <td>-0.255425</td>\n",
              "      <td>-0.166974</td>\n",
              "      <td>1.612727</td>\n",
              "      <td>1.065235</td>\n",
              "      <td>0.489095</td>\n",
              "      <td>-0.143772</td>\n",
              "      <td>0.635558</td>\n",
              "      <td>0.463917</td>\n",
              "      <td>-0.114805</td>\n",
              "      <td>-0.183361</td>\n",
              "      <td>-0.145783</td>\n",
              "      <td>-0.069083</td>\n",
              "      <td>-0.225775</td>\n",
              "      <td>-0.638672</td>\n",
              "      <td>0.101288</td>\n",
              "      <td>-0.339846</td>\n",
              "      <td>0.167170</td>\n",
              "      <td>0.125895</td>\n",
              "      <td>-0.008983</td>\n",
              "      <td>0.014724</td>\n",
              "      <td>2.69</td>\n",
              "      <td>0</td>\n",
              "    </tr>\n",
              "    <tr>\n",
              "      <th>2</th>\n",
              "      <td>1.0</td>\n",
              "      <td>-1.358354</td>\n",
              "      <td>-1.340163</td>\n",
              "      <td>1.773209</td>\n",
              "      <td>0.379780</td>\n",
              "      <td>-0.503198</td>\n",
              "      <td>1.800499</td>\n",
              "      <td>0.791461</td>\n",
              "      <td>0.247676</td>\n",
              "      <td>-1.514654</td>\n",
              "      <td>0.207643</td>\n",
              "      <td>0.624501</td>\n",
              "      <td>0.066084</td>\n",
              "      <td>0.717293</td>\n",
              "      <td>-0.165946</td>\n",
              "      <td>2.345865</td>\n",
              "      <td>-2.890083</td>\n",
              "      <td>1.109969</td>\n",
              "      <td>-0.121359</td>\n",
              "      <td>-2.261857</td>\n",
              "      <td>0.524980</td>\n",
              "      <td>0.247998</td>\n",
              "      <td>0.771679</td>\n",
              "      <td>0.909412</td>\n",
              "      <td>-0.689281</td>\n",
              "      <td>-0.327642</td>\n",
              "      <td>-0.139097</td>\n",
              "      <td>-0.055353</td>\n",
              "      <td>-0.059752</td>\n",
              "      <td>378.66</td>\n",
              "      <td>0</td>\n",
              "    </tr>\n",
              "    <tr>\n",
              "      <th>3</th>\n",
              "      <td>1.0</td>\n",
              "      <td>-0.966272</td>\n",
              "      <td>-0.185226</td>\n",
              "      <td>1.792993</td>\n",
              "      <td>-0.863291</td>\n",
              "      <td>-0.010309</td>\n",
              "      <td>1.247203</td>\n",
              "      <td>0.237609</td>\n",
              "      <td>0.377436</td>\n",
              "      <td>-1.387024</td>\n",
              "      <td>-0.054952</td>\n",
              "      <td>-0.226487</td>\n",
              "      <td>0.178228</td>\n",
              "      <td>0.507757</td>\n",
              "      <td>-0.287924</td>\n",
              "      <td>-0.631418</td>\n",
              "      <td>-1.059647</td>\n",
              "      <td>-0.684093</td>\n",
              "      <td>1.965775</td>\n",
              "      <td>-1.232622</td>\n",
              "      <td>-0.208038</td>\n",
              "      <td>-0.108300</td>\n",
              "      <td>0.005274</td>\n",
              "      <td>-0.190321</td>\n",
              "      <td>-1.175575</td>\n",
              "      <td>0.647376</td>\n",
              "      <td>-0.221929</td>\n",
              "      <td>0.062723</td>\n",
              "      <td>0.061458</td>\n",
              "      <td>123.50</td>\n",
              "      <td>0</td>\n",
              "    </tr>\n",
              "    <tr>\n",
              "      <th>4</th>\n",
              "      <td>2.0</td>\n",
              "      <td>-1.158233</td>\n",
              "      <td>0.877737</td>\n",
              "      <td>1.548718</td>\n",
              "      <td>0.403034</td>\n",
              "      <td>-0.407193</td>\n",
              "      <td>0.095921</td>\n",
              "      <td>0.592941</td>\n",
              "      <td>-0.270533</td>\n",
              "      <td>0.817739</td>\n",
              "      <td>0.753074</td>\n",
              "      <td>-0.822843</td>\n",
              "      <td>0.538196</td>\n",
              "      <td>1.345852</td>\n",
              "      <td>-1.119670</td>\n",
              "      <td>0.175121</td>\n",
              "      <td>-0.451449</td>\n",
              "      <td>-0.237033</td>\n",
              "      <td>-0.038195</td>\n",
              "      <td>0.803487</td>\n",
              "      <td>0.408542</td>\n",
              "      <td>-0.009431</td>\n",
              "      <td>0.798278</td>\n",
              "      <td>-0.137458</td>\n",
              "      <td>0.141267</td>\n",
              "      <td>-0.206010</td>\n",
              "      <td>0.502292</td>\n",
              "      <td>0.219422</td>\n",
              "      <td>0.215153</td>\n",
              "      <td>69.99</td>\n",
              "      <td>0</td>\n",
              "    </tr>\n",
              "  </tbody>\n",
              "</table>\n",
              "</div>"
            ],
            "text/plain": [
              "   Time        V1        V2        V3  ...       V27       V28  Amount  Class\n",
              "0   0.0 -1.359807 -0.072781  2.536347  ...  0.133558 -0.021053  149.62      0\n",
              "1   0.0  1.191857  0.266151  0.166480  ... -0.008983  0.014724    2.69      0\n",
              "2   1.0 -1.358354 -1.340163  1.773209  ... -0.055353 -0.059752  378.66      0\n",
              "3   1.0 -0.966272 -0.185226  1.792993  ...  0.062723  0.061458  123.50      0\n",
              "4   2.0 -1.158233  0.877737  1.548718  ...  0.219422  0.215153   69.99      0\n",
              "\n",
              "[5 rows x 31 columns]"
            ]
          },
          "metadata": {
            "tags": []
          },
          "execution_count": 7
        }
      ]
    },
    {
      "cell_type": "code",
      "metadata": {
        "id": "7yNDLCaFToKj",
        "colab_type": "code",
        "colab": {
          "base_uri": "https://localhost:8080/",
          "height": 34
        },
        "outputId": "66165144-5a12-4c4d-b7cf-118b4e048f76"
      },
      "source": [
        "data.shape"
      ],
      "execution_count": 8,
      "outputs": [
        {
          "output_type": "execute_result",
          "data": {
            "text/plain": [
              "(284807, 31)"
            ]
          },
          "metadata": {
            "tags": []
          },
          "execution_count": 8
        }
      ]
    },
    {
      "cell_type": "code",
      "metadata": {
        "id": "OpNhIr2mTtMq",
        "colab_type": "code",
        "colab": {
          "base_uri": "https://localhost:8080/",
          "height": 573
        },
        "outputId": "5e237784-81c1-4703-9927-dec791ea444e"
      },
      "source": [
        "data.isnull().sum()"
      ],
      "execution_count": 9,
      "outputs": [
        {
          "output_type": "execute_result",
          "data": {
            "text/plain": [
              "Time      0\n",
              "V1        0\n",
              "V2        0\n",
              "V3        0\n",
              "V4        0\n",
              "V5        0\n",
              "V6        0\n",
              "V7        0\n",
              "V8        0\n",
              "V9        0\n",
              "V10       0\n",
              "V11       0\n",
              "V12       0\n",
              "V13       0\n",
              "V14       0\n",
              "V15       0\n",
              "V16       0\n",
              "V17       0\n",
              "V18       0\n",
              "V19       0\n",
              "V20       0\n",
              "V21       0\n",
              "V22       0\n",
              "V23       0\n",
              "V24       0\n",
              "V25       0\n",
              "V26       0\n",
              "V27       0\n",
              "V28       0\n",
              "Amount    0\n",
              "Class     0\n",
              "dtype: int64"
            ]
          },
          "metadata": {
            "tags": []
          },
          "execution_count": 9
        }
      ]
    },
    {
      "cell_type": "code",
      "metadata": {
        "id": "pyePpiUZT1UZ",
        "colab_type": "code",
        "colab": {
          "base_uri": "https://localhost:8080/",
          "height": 69
        },
        "outputId": "76d74f93-1d49-4afc-9404-7cf9103f92b3"
      },
      "source": [
        "data['Class'].value_counts()"
      ],
      "execution_count": 11,
      "outputs": [
        {
          "output_type": "execute_result",
          "data": {
            "text/plain": [
              "0    284315\n",
              "1       492\n",
              "Name: Class, dtype: int64"
            ]
          },
          "metadata": {
            "tags": []
          },
          "execution_count": 11
        }
      ]
    },
    {
      "cell_type": "code",
      "metadata": {
        "id": "pDaxxsOoULTU",
        "colab_type": "code",
        "colab": {}
      },
      "source": [
        "nonfaurd=data[data['Class']==0]\n",
        "faud=data[data['Class']==1]"
      ],
      "execution_count": 0,
      "outputs": []
    },
    {
      "cell_type": "code",
      "metadata": {
        "id": "eM2SKldWUeWF",
        "colab_type": "code",
        "colab": {
          "base_uri": "https://localhost:8080/",
          "height": 34
        },
        "outputId": "afbd9bb3-a32e-420b-f3bc-8451c95d8835"
      },
      "source": [
        "nonfaurd.shape,faud.shape"
      ],
      "execution_count": 15,
      "outputs": [
        {
          "output_type": "execute_result",
          "data": {
            "text/plain": [
              "((284315, 31), (492, 31))"
            ]
          },
          "metadata": {
            "tags": []
          },
          "execution_count": 15
        }
      ]
    },
    {
      "cell_type": "code",
      "metadata": {
        "id": "9bWYC0fhUlAX",
        "colab_type": "code",
        "colab": {}
      },
      "source": [
        "nonfaurd=nonfaurd.sample(faud.shape[0])"
      ],
      "execution_count": 0,
      "outputs": []
    },
    {
      "cell_type": "code",
      "metadata": {
        "id": "AtQD_3e3UyFJ",
        "colab_type": "code",
        "colab": {
          "base_uri": "https://localhost:8080/",
          "height": 34
        },
        "outputId": "fc27344f-698f-4ff2-ae4b-12a74005695c"
      },
      "source": [
        "nonfaurd.shape"
      ],
      "execution_count": 18,
      "outputs": [
        {
          "output_type": "execute_result",
          "data": {
            "text/plain": [
              "(492, 31)"
            ]
          },
          "metadata": {
            "tags": []
          },
          "execution_count": 18
        }
      ]
    },
    {
      "cell_type": "code",
      "metadata": {
        "id": "9MV0EhMeVjE2",
        "colab_type": "code",
        "colab": {}
      },
      "source": [
        "data=faud.append(nonfaurd,ignore_index=True)"
      ],
      "execution_count": 0,
      "outputs": []
    },
    {
      "cell_type": "code",
      "metadata": {
        "id": "vsQQYmrmVwfp",
        "colab_type": "code",
        "colab": {
          "base_uri": "https://localhost:8080/",
          "height": 69
        },
        "outputId": "7e793401-7c06-47cd-809e-33e2e4600c5f"
      },
      "source": [
        "data[\"Class\"].value_counts()"
      ],
      "execution_count": 20,
      "outputs": [
        {
          "output_type": "execute_result",
          "data": {
            "text/plain": [
              "1    492\n",
              "0    492\n",
              "Name: Class, dtype: int64"
            ]
          },
          "metadata": {
            "tags": []
          },
          "execution_count": 20
        }
      ]
    },
    {
      "cell_type": "code",
      "metadata": {
        "id": "jjvZH9bGV0PZ",
        "colab_type": "code",
        "colab": {}
      },
      "source": [
        "x=data.drop('Class',axis=1)\n",
        "y=data['Class']"
      ],
      "execution_count": 0,
      "outputs": []
    },
    {
      "cell_type": "code",
      "metadata": {
        "id": "VCGcea3zWHa1",
        "colab_type": "code",
        "colab": {}
      },
      "source": [
        "X_train, X_test, y_train, y_test = train_test_split(x, y, test_size = 0.2, random_state = 0, stratify = y)"
      ],
      "execution_count": 0,
      "outputs": []
    },
    {
      "cell_type": "code",
      "metadata": {
        "id": "hlM4QZg0WKII",
        "colab_type": "code",
        "colab": {}
      },
      "source": [
        "sc=StandardScaler()"
      ],
      "execution_count": 0,
      "outputs": []
    },
    {
      "cell_type": "code",
      "metadata": {
        "id": "TMMNihYNWRlQ",
        "colab_type": "code",
        "colab": {}
      },
      "source": [
        "X_train=sc.fit_transform(X_train)\n",
        "X_test=sc.fit_transform(X_test)"
      ],
      "execution_count": 0,
      "outputs": []
    },
    {
      "cell_type": "code",
      "metadata": {
        "id": "w6QXx_OFWYo4",
        "colab_type": "code",
        "colab": {}
      },
      "source": [
        "y_train=y_train.to_numpy()\n",
        "y_test=y_test.to_numpy()"
      ],
      "execution_count": 0,
      "outputs": []
    },
    {
      "cell_type": "code",
      "metadata": {
        "id": "nU7t2afTWkLJ",
        "colab_type": "code",
        "colab": {
          "base_uri": "https://localhost:8080/",
          "height": 34
        },
        "outputId": "82b3e811-ea32-4039-fdb8-6eb30f011eb7"
      },
      "source": [
        "X_train.shape,X_test.shape"
      ],
      "execution_count": 28,
      "outputs": [
        {
          "output_type": "execute_result",
          "data": {
            "text/plain": [
              "((787, 30), (197, 30))"
            ]
          },
          "metadata": {
            "tags": []
          },
          "execution_count": 28
        }
      ]
    },
    {
      "cell_type": "code",
      "metadata": {
        "id": "wTB5CDSwWndI",
        "colab_type": "code",
        "colab": {}
      },
      "source": [
        "X_train=X_train.reshape(787,30,1)\n",
        "X_test=X_test.reshape(197,30,1)"
      ],
      "execution_count": 0,
      "outputs": []
    },
    {
      "cell_type": "code",
      "metadata": {
        "id": "GpdbpW9qYjWv",
        "colab_type": "code",
        "colab": {
          "base_uri": "https://localhost:8080/",
          "height": 34
        },
        "outputId": "6a197610-92db-4221-a2d9-92b81261b98d"
      },
      "source": [
        "X_train[0].shape"
      ],
      "execution_count": 49,
      "outputs": [
        {
          "output_type": "execute_result",
          "data": {
            "text/plain": [
              "(30, 1)"
            ]
          },
          "metadata": {
            "tags": []
          },
          "execution_count": 49
        }
      ]
    },
    {
      "cell_type": "code",
      "metadata": {
        "id": "NmXcsuyBW30G",
        "colab_type": "code",
        "colab": {}
      },
      "source": [
        "model=Sequential()\n",
        "model.add(Conv1D(16,(2),activation='relu', input_shape=X_train[0].shape))\n",
        "model.add(MaxPool1D(1))\n",
        "model.add(BatchNormalization())\n",
        "model.add(Dropout(0.2))\n",
        "\n",
        "model.add(Conv1D(32,(2),activation='relu'))\n",
        "model.add(MaxPool1D(2))\n",
        "model.add(BatchNormalization())\n",
        "model.add(Dropout(0.5))\n",
        "\n",
        "model.add(Conv1D(64,(2),activation='relu'))\n",
        "model.add(MaxPool1D(2))\n",
        "model.add(BatchNormalization())\n",
        "model.add(Dropout(0.5))\n",
        "\n",
        "model.add(Flatten())\n",
        "model.add(Dense(64,activation='relu'))\n",
        "model.add(Dropout(0.5))\n",
        "\n",
        "model.add(Dense(1,activation='sigmoid'))\n"
      ],
      "execution_count": 0,
      "outputs": []
    },
    {
      "cell_type": "code",
      "metadata": {
        "id": "1CqCVR_bYPJo",
        "colab_type": "code",
        "colab": {}
      },
      "source": [
        "model.compile(optimizer='adam', loss = 'binary_crossentropy', metrics=['accuracy'])"
      ],
      "execution_count": 0,
      "outputs": []
    },
    {
      "cell_type": "code",
      "metadata": {
        "id": "7_2if5u6ZjWp",
        "colab_type": "code",
        "colab": {
          "base_uri": "https://localhost:8080/",
          "height": 1000
        },
        "outputId": "b2a74d62-2599-4c9a-bd20-5c29e34754e9"
      },
      "source": [
        "history = model.fit(X_train, y_train, epochs=50, validation_data=(X_test, y_test), verbose=1)"
      ],
      "execution_count": 47,
      "outputs": [
        {
          "output_type": "stream",
          "text": [
            "Train on 787 samples, validate on 197 samples\n",
            "Epoch 1/50\n",
            "787/787 [==============================] - 1s 2ms/step - loss: 0.7454 - acc: 0.6658 - val_loss: 0.4356 - val_acc: 0.7970\n",
            "Epoch 2/50\n",
            "787/787 [==============================] - 0s 256us/step - loss: 0.5367 - acc: 0.7776 - val_loss: 0.3151 - val_acc: 0.8832\n",
            "Epoch 3/50\n",
            "787/787 [==============================] - 0s 271us/step - loss: 0.4158 - acc: 0.8361 - val_loss: 0.2829 - val_acc: 0.8883\n",
            "Epoch 4/50\n",
            "787/787 [==============================] - 0s 251us/step - loss: 0.4013 - acc: 0.8501 - val_loss: 0.2595 - val_acc: 0.9086\n",
            "Epoch 5/50\n",
            "787/787 [==============================] - 0s 259us/step - loss: 0.3702 - acc: 0.8590 - val_loss: 0.2558 - val_acc: 0.9086\n",
            "Epoch 6/50\n",
            "787/787 [==============================] - 0s 234us/step - loss: 0.2814 - acc: 0.8920 - val_loss: 0.2472 - val_acc: 0.9086\n",
            "Epoch 7/50\n",
            "787/787 [==============================] - 0s 250us/step - loss: 0.2736 - acc: 0.8996 - val_loss: 0.2344 - val_acc: 0.9086\n",
            "Epoch 8/50\n",
            "787/787 [==============================] - 0s 242us/step - loss: 0.2882 - acc: 0.8882 - val_loss: 0.2480 - val_acc: 0.9086\n",
            "Epoch 9/50\n",
            "787/787 [==============================] - 0s 258us/step - loss: 0.2550 - acc: 0.9060 - val_loss: 0.2369 - val_acc: 0.9036\n",
            "Epoch 10/50\n",
            "787/787 [==============================] - 0s 245us/step - loss: 0.2677 - acc: 0.9136 - val_loss: 0.2458 - val_acc: 0.8985\n",
            "Epoch 11/50\n",
            "787/787 [==============================] - 0s 261us/step - loss: 0.2436 - acc: 0.9085 - val_loss: 0.2437 - val_acc: 0.8985\n",
            "Epoch 12/50\n",
            "787/787 [==============================] - 0s 256us/step - loss: 0.2341 - acc: 0.8996 - val_loss: 0.2373 - val_acc: 0.9036\n",
            "Epoch 13/50\n",
            "787/787 [==============================] - 0s 251us/step - loss: 0.2409 - acc: 0.9098 - val_loss: 0.2267 - val_acc: 0.9036\n",
            "Epoch 14/50\n",
            "787/787 [==============================] - 0s 261us/step - loss: 0.2509 - acc: 0.9111 - val_loss: 0.2301 - val_acc: 0.9036\n",
            "Epoch 15/50\n",
            "787/787 [==============================] - 0s 258us/step - loss: 0.2465 - acc: 0.9047 - val_loss: 0.2315 - val_acc: 0.9036\n",
            "Epoch 16/50\n",
            "787/787 [==============================] - 0s 256us/step - loss: 0.2108 - acc: 0.9212 - val_loss: 0.2321 - val_acc: 0.9036\n",
            "Epoch 17/50\n",
            "787/787 [==============================] - 0s 250us/step - loss: 0.2265 - acc: 0.9072 - val_loss: 0.2288 - val_acc: 0.9036\n",
            "Epoch 18/50\n",
            "787/787 [==============================] - 0s 274us/step - loss: 0.2298 - acc: 0.9123 - val_loss: 0.2278 - val_acc: 0.9036\n",
            "Epoch 19/50\n",
            "787/787 [==============================] - 0s 274us/step - loss: 0.2335 - acc: 0.9225 - val_loss: 0.2264 - val_acc: 0.9036\n",
            "Epoch 20/50\n",
            "787/787 [==============================] - 0s 259us/step - loss: 0.2014 - acc: 0.9238 - val_loss: 0.2251 - val_acc: 0.9036\n",
            "Epoch 21/50\n",
            "787/787 [==============================] - 0s 255us/step - loss: 0.2040 - acc: 0.9352 - val_loss: 0.2238 - val_acc: 0.8985\n",
            "Epoch 22/50\n",
            "787/787 [==============================] - 0s 252us/step - loss: 0.2023 - acc: 0.9288 - val_loss: 0.2254 - val_acc: 0.8985\n",
            "Epoch 23/50\n",
            "787/787 [==============================] - 0s 259us/step - loss: 0.2107 - acc: 0.9199 - val_loss: 0.2255 - val_acc: 0.8985\n",
            "Epoch 24/50\n",
            "787/787 [==============================] - 0s 263us/step - loss: 0.1988 - acc: 0.9187 - val_loss: 0.2227 - val_acc: 0.8985\n",
            "Epoch 25/50\n",
            "787/787 [==============================] - 0s 262us/step - loss: 0.1864 - acc: 0.9327 - val_loss: 0.2223 - val_acc: 0.9036\n",
            "Epoch 26/50\n",
            "787/787 [==============================] - 0s 270us/step - loss: 0.2282 - acc: 0.9199 - val_loss: 0.2244 - val_acc: 0.9036\n",
            "Epoch 27/50\n",
            "787/787 [==============================] - 0s 276us/step - loss: 0.2088 - acc: 0.9238 - val_loss: 0.2258 - val_acc: 0.9036\n",
            "Epoch 28/50\n",
            "787/787 [==============================] - 0s 257us/step - loss: 0.1873 - acc: 0.9288 - val_loss: 0.2222 - val_acc: 0.9036\n",
            "Epoch 29/50\n",
            "787/787 [==============================] - 0s 254us/step - loss: 0.1955 - acc: 0.9301 - val_loss: 0.2245 - val_acc: 0.9036\n",
            "Epoch 30/50\n",
            "787/787 [==============================] - 0s 256us/step - loss: 0.2044 - acc: 0.9250 - val_loss: 0.2182 - val_acc: 0.9036\n",
            "Epoch 31/50\n",
            "787/787 [==============================] - 0s 255us/step - loss: 0.1909 - acc: 0.9301 - val_loss: 0.2183 - val_acc: 0.9036\n",
            "Epoch 32/50\n",
            "787/787 [==============================] - 0s 265us/step - loss: 0.1903 - acc: 0.9327 - val_loss: 0.2176 - val_acc: 0.9036\n",
            "Epoch 33/50\n",
            "787/787 [==============================] - 0s 272us/step - loss: 0.2001 - acc: 0.9288 - val_loss: 0.2171 - val_acc: 0.9137\n",
            "Epoch 34/50\n",
            "787/787 [==============================] - 0s 261us/step - loss: 0.1619 - acc: 0.9314 - val_loss: 0.2164 - val_acc: 0.9137\n",
            "Epoch 35/50\n",
            "787/787 [==============================] - 0s 244us/step - loss: 0.1725 - acc: 0.9390 - val_loss: 0.2189 - val_acc: 0.9086\n",
            "Epoch 36/50\n",
            "787/787 [==============================] - 0s 257us/step - loss: 0.1918 - acc: 0.9301 - val_loss: 0.2141 - val_acc: 0.9086\n",
            "Epoch 37/50\n",
            "787/787 [==============================] - 0s 253us/step - loss: 0.1906 - acc: 0.9288 - val_loss: 0.2133 - val_acc: 0.9036\n",
            "Epoch 38/50\n",
            "787/787 [==============================] - 0s 276us/step - loss: 0.1726 - acc: 0.9314 - val_loss: 0.2165 - val_acc: 0.8985\n",
            "Epoch 39/50\n",
            "787/787 [==============================] - 0s 257us/step - loss: 0.1799 - acc: 0.9390 - val_loss: 0.2171 - val_acc: 0.9036\n",
            "Epoch 40/50\n",
            "787/787 [==============================] - 0s 254us/step - loss: 0.1731 - acc: 0.9339 - val_loss: 0.2186 - val_acc: 0.9036\n",
            "Epoch 41/50\n",
            "787/787 [==============================] - 0s 248us/step - loss: 0.1616 - acc: 0.9288 - val_loss: 0.2166 - val_acc: 0.9137\n",
            "Epoch 42/50\n",
            "787/787 [==============================] - 0s 255us/step - loss: 0.1772 - acc: 0.9263 - val_loss: 0.2158 - val_acc: 0.9137\n",
            "Epoch 43/50\n",
            "787/787 [==============================] - 0s 284us/step - loss: 0.1732 - acc: 0.9377 - val_loss: 0.2146 - val_acc: 0.9086\n",
            "Epoch 44/50\n",
            "787/787 [==============================] - 0s 250us/step - loss: 0.1823 - acc: 0.9301 - val_loss: 0.2195 - val_acc: 0.9036\n",
            "Epoch 45/50\n",
            "787/787 [==============================] - 0s 257us/step - loss: 0.1858 - acc: 0.9339 - val_loss: 0.2207 - val_acc: 0.9036\n",
            "Epoch 46/50\n",
            "787/787 [==============================] - 0s 255us/step - loss: 0.1713 - acc: 0.9288 - val_loss: 0.2221 - val_acc: 0.9036\n",
            "Epoch 47/50\n",
            "787/787 [==============================] - 0s 263us/step - loss: 0.1700 - acc: 0.9416 - val_loss: 0.2154 - val_acc: 0.9036\n",
            "Epoch 48/50\n",
            "787/787 [==============================] - 0s 262us/step - loss: 0.1696 - acc: 0.9314 - val_loss: 0.2160 - val_acc: 0.9036\n",
            "Epoch 49/50\n",
            "787/787 [==============================] - 0s 268us/step - loss: 0.1603 - acc: 0.9339 - val_loss: 0.2183 - val_acc: 0.9086\n",
            "Epoch 50/50\n",
            "787/787 [==============================] - 0s 278us/step - loss: 0.1701 - acc: 0.9390 - val_loss: 0.2199 - val_acc: 0.9086\n"
          ],
          "name": "stdout"
        }
      ]
    },
    {
      "cell_type": "code",
      "metadata": {
        "id": "NoEZNJWWZp9A",
        "colab_type": "code",
        "colab": {}
      },
      "source": [
        "def plot_learningCurve(history, epoch):\n",
        "  # Plot training & validation accuracy values\n",
        "  epoch_range = range(1, epoch+1)\n",
        "  plt.plot(epoch_range, history.history['acc'])\n",
        "  plt.plot(epoch_range, history.history['val_acc'])\n",
        "  plt.title('Model accuracy')\n",
        "  plt.ylabel('Accuracy')\n",
        "  plt.xlabel('Epoch')\n",
        "  plt.legend(['Train', 'Val'], loc='upper left')\n",
        "  plt.show()\n",
        "\n",
        "  # Plot training & validation loss values\n",
        "  plt.plot(epoch_range, history.history['loss'])\n",
        "  plt.plot(epoch_range, history.history['val_loss'])\n",
        "  plt.title('Model loss')\n",
        "  plt.ylabel('Loss')\n",
        "  plt.xlabel('Epoch')\n",
        "  plt.legend(['Train', 'Val'], loc='upper left')\n",
        "  plt.show()"
      ],
      "execution_count": 0,
      "outputs": []
    },
    {
      "cell_type": "code",
      "metadata": {
        "id": "WiX_CMhealpp",
        "colab_type": "code",
        "colab": {
          "base_uri": "https://localhost:8080/",
          "height": 573
        },
        "outputId": "bbbedd2a-f371-4b6d-d800-91459e601951"
      },
      "source": [
        "plot_learningCurve(history, 50)"
      ],
      "execution_count": 54,
      "outputs": [
        {
          "output_type": "display_data",
          "data": {
            "image/png": "[encoded data removed]",
            "text/plain": [
              "<Figure size 432x288 with 1 Axes>"
            ]
          },
          "metadata": {
            "tags": []
          }
        },
        {
          "output_type": "display_data",
          "data": {
            "image/png": "[encoded data removed]",
            "text/plain": [
              "<Figure size 432x288 with 1 Axes>"
            ]
          },
          "metadata": {
            "tags": []
          }
        }
      ]
    },
    {
      "cell_type": "code",
      "metadata": {
        "id": "Jeaoj1qpao8E",
        "colab_type": "code",
        "colab": {}
      },
      "source": [
        ""
      ],
      "execution_count": 0,
      "outputs": []
    }
  ]
}
